{
 "cells": [
  {
   "cell_type": "markdown",
   "metadata": {},
   "source": [
    "# Following Along YouTube Tutorial"
   ]
  },
  {
   "cell_type": "code",
   "execution_count": 2,
   "metadata": {},
   "outputs": [],
   "source": [
    "# Create our strings\n",
    "\n",
    "input_str_1 = \"abc de\"\n",
    "input_str_2 = \"ThomasIsRad\""
   ]
  },
  {
   "cell_type": "code",
   "execution_count": 3,
   "metadata": {},
   "outputs": [],
   "source": [
    "# Create a vowels list.\n",
    "\n",
    "vowels = \"aeiou\""
   ]
  },
  {
   "cell_type": "code",
   "execution_count": 6,
   "metadata": {},
   "outputs": [],
   "source": [
    "# Create our function.\n",
    "\n",
    "def iterative_count_cont(input_str):\n",
    "    count = 0\n",
    "    for i in range(len(input_str)):\n",
    "        if input_str[i].lower() not in vowels and input_str[i].isalpha():\n",
    "            count += 1\n",
    "    return count    "
   ]
  },
  {
   "cell_type": "code",
   "execution_count": 15,
   "metadata": {},
   "outputs": [
    {
     "name": "stdout",
     "output_type": "stream",
     "text": [
      "Answer1: 3, Answer2: 7\n"
     ]
    }
   ],
   "source": [
    "# Test it out. \n",
    "\n",
    "Ans1 = iterative_count_cont(input_str_1)\n",
    "Ans2 = iterative_count_cont(input_str_2)\n",
    "print(\"Answer1: {}, Answer2: {}\".format( Ans1,Ans2))"
   ]
  },
  {
   "cell_type": "code",
   "execution_count": 9,
   "metadata": {},
   "outputs": [],
   "source": [
    "# Doing the same thing but now using recursion. \n",
    "\n",
    "def recursive_count_cont(input_str):\n",
    "    if input_str == \"\":\n",
    "        return 0 \n",
    "    \n",
    "    if input_str[0].lower() not in vowels and input_str[0].isalpha():\n",
    "        return 1 + recursive_count_cont(input_str[1:])\n",
    "    \n",
    "    else:\n",
    "        return recursive_count_cont(input_str[1:])"
   ]
  },
  {
   "cell_type": "code",
   "execution_count": 14,
   "metadata": {},
   "outputs": [
    {
     "name": "stdout",
     "output_type": "stream",
     "text": [
      "Answer3: 3, Answer4: 7\n"
     ]
    }
   ],
   "source": [
    "# Test it out.\n",
    "\n",
    "Ans3 = recursive_count_cont(input_str_1)\n",
    "Ans4 = recursive_count_cont(input_str_2)\n",
    "\n",
    "print(\"Answer3: {}, Answer4: {}\".format( Ans3,Ans4))"
   ]
  }
 ],
 "metadata": {
  "kernelspec": {
   "display_name": "Python 3",
   "language": "python",
   "name": "python3"
  },
  "language_info": {
   "codemirror_mode": {
    "name": "ipython",
    "version": 3
   },
   "file_extension": ".py",
   "mimetype": "text/x-python",
   "name": "python",
   "nbconvert_exporter": "python",
   "pygments_lexer": "ipython3",
   "version": "3.7.6"
  }
 },
 "nbformat": 4,
 "nbformat_minor": 4
}
